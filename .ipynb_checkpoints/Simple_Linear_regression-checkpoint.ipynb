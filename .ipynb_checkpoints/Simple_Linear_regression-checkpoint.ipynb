{
 "cells": [
  {
   "cell_type": "markdown",
   "id": "6c916b83-9ba0-4cbe-bc04-ae42e44587e4",
   "metadata": {},
   "source": []
  },
  {
   "cell_type": "code",
   "execution_count": 15,
   "id": "01112f5d-dcf0-43ff-8690-58667ef673a5",
   "metadata": {},
   "outputs": [],
   "source": [
    "import pandas as pd\n",
    "import numpy as np\n",
    "import matplotlib.pyplot as plt\n"
   ]
  },
  {
   "cell_type": "code",
   "execution_count": 33,
   "id": "907110dc-bcc0-44bc-9e45-a31e95f1face",
   "metadata": {},
   "outputs": [],
   "source": [
    "df = pd.read_csv('LR.csv')"
   ]
  },
  {
   "cell_type": "code",
   "execution_count": 30,
   "id": "bb86c6ee-2448-4ae4-ab18-289b97603ba1",
   "metadata": {},
   "outputs": [
    {
     "data": {
      "text/html": [
       "<div>\n",
       "<style scoped>\n",
       "    .dataframe tbody tr th:only-of-type {\n",
       "        vertical-align: middle;\n",
       "    }\n",
       "\n",
       "    .dataframe tbody tr th {\n",
       "        vertical-align: top;\n",
       "    }\n",
       "\n",
       "    .dataframe thead th {\n",
       "        text-align: right;\n",
       "    }\n",
       "</style>\n",
       "<table border=\"1\" class=\"dataframe\">\n",
       "  <thead>\n",
       "    <tr style=\"text-align: right;\">\n",
       "      <th></th>\n",
       "      <th>CGPA</th>\n",
       "      <th>Package</th>\n",
       "    </tr>\n",
       "  </thead>\n",
       "  <tbody>\n",
       "    <tr>\n",
       "      <th>0</th>\n",
       "      <td>4.00</td>\n",
       "      <td>20</td>\n",
       "    </tr>\n",
       "    <tr>\n",
       "      <th>1</th>\n",
       "      <td>3.50</td>\n",
       "      <td>13</td>\n",
       "    </tr>\n",
       "    <tr>\n",
       "      <th>2</th>\n",
       "      <td>3.90</td>\n",
       "      <td>17</td>\n",
       "    </tr>\n",
       "    <tr>\n",
       "      <th>3</th>\n",
       "      <td>3.67</td>\n",
       "      <td>18</td>\n",
       "    </tr>\n",
       "    <tr>\n",
       "      <th>4</th>\n",
       "      <td>2.90</td>\n",
       "      <td>8</td>\n",
       "    </tr>\n",
       "  </tbody>\n",
       "</table>\n",
       "</div>"
      ],
      "text/plain": [
       "   CGPA  Package\n",
       "0  4.00       20\n",
       "1  3.50       13\n",
       "2  3.90       17\n",
       "3  3.67       18\n",
       "4  2.90        8"
      ]
     },
     "execution_count": 30,
     "metadata": {},
     "output_type": "execute_result"
    }
   ],
   "source": [
    "df.head()"
   ]
  },
  {
   "cell_type": "code",
   "execution_count": 31,
   "id": "096ef8cd-52ec-4198-bf29-004c60e51a76",
   "metadata": {},
   "outputs": [
    {
     "name": "stdout",
     "output_type": "stream",
     "text": [
      "    CGPA  Package\n",
      "0   4.00       20\n",
      "1   3.50       13\n",
      "2   3.90       17\n",
      "3   3.67       18\n",
      "4   2.90        8\n",
      "5   2.50        5\n",
      "6   3.44       11\n",
      "7   3.20       10\n",
      "8   3.75       19\n",
      "9   2.80        5\n",
      "10  3.55       15\n",
      "11  4.00       21\n",
      "12  3.85       20\n",
      "13  3.33       10\n",
      "14  3.70       20\n",
      "15  3.25       13\n",
      "16  2.79        7\n",
      "17  4.00       22\n",
      "18  3.45       15\n",
      "19  3.90       20\n",
      "20  3.12       25\n"
     ]
    }
   ],
   "source": [
    "print(df.to_string())"
   ]
  },
  {
   "cell_type": "code",
   "execution_count": 34,
   "id": "8da304fc-175f-4d13-b23c-94d729ca3420",
   "metadata": {},
   "outputs": [
    {
     "data": {
      "text/plain": [
       "Text(0, 0.5, 'Package(LPA)')"
      ]
     },
     "execution_count": 34,
     "metadata": {},
     "output_type": "execute_result"
    },
    {
     "data": {
      "image/png": "[encoded data removed]",
      "text/plain": [
       "<Figure size 640x480 with 1 Axes>"
      ]
     },
     "metadata": {},
     "output_type": "display_data"
    }
   ],
   "source": [
    "plt.scatter(df['CGPA'],df['Package'])\n",
    "plt.xlabel('CGPA')\n",
    "plt.ylabel('Package(LPA)')"
   ]
  },
  {
   "cell_type": "code",
   "execution_count": 35,
   "id": "e0676db4-15c7-41c0-a0b0-73432d0e37e8",
   "metadata": {},
   "outputs": [],
   "source": [
    "x = df.iloc[:,0:1] #The result is a DataFrame with just the first column\n",
    "y = df.iloc[:,-1] #selects the last column. The result is a Series\n",
    "\n"
   ]
  },
  {
   "cell_type": "code",
   "execution_count": null,
   "id": "5b3e3c11-9011-4f49-8245-24a84d14f396",
   "metadata": {},
   "outputs": [],
   "source": []
  }
 ],
 "metadata": {
  "kernelspec": {
   "display_name": "Python 3 (ipykernel)",
   "language": "python",
   "name": "python3"
  },
  "language_info": {
   "codemirror_mode": {
    "name": "ipython",
    "version": 3
   },
   "file_extension": ".py",
   "mimetype": "text/x-python",
   "name": "python",
   "nbconvert_exporter": "python",
   "pygments_lexer": "ipython3",
   "version": "3.9.6"
  }
 },
 "nbformat": 4,
 "nbformat_minor": 5
}
