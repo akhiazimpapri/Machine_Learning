{
 "cells": [
  {
   "cell_type": "code",
   "execution_count": 17,
   "id": "e42b0399-dac9-491d-8bbe-09e791622139",
   "metadata": {},
   "outputs": [
    {
     "name": "stdout",
     "output_type": "stream",
     "text": [
      "0    1\n",
      "1    7\n",
      "2    2\n",
      "dtype: int64\n"
     ]
    }
   ],
   "source": [
    "import pandas as pd\n",
    "a = [1, 7, 2]\n",
    "myvar = pd.Series(a)\n",
    "print(myvar)"
   ]
  },
  {
   "cell_type": "code",
   "execution_count": 18,
   "id": "d1b4ee63-2129-457b-9d97-48f336d50209",
   "metadata": {},
   "outputs": [
    {
     "name": "stdout",
     "output_type": "stream",
     "text": [
      "x    1\n",
      "y    2\n",
      "z    3\n",
      "p    4\n",
      "dtype: int64\n"
     ]
    }
   ],
   "source": [
    "import pandas as pd\n",
    "a = [1,2,3,4]\n",
    "myvar = pd.Series(a, index = ['x' ,'y', 'z', 'p'])\n",
    "print(myvar)"
   ]
  },
  {
   "cell_type": "code",
   "execution_count": 19,
   "id": "ea276539-9fc7-4b49-b89d-23d98dfc523f",
   "metadata": {},
   "outputs": [
    {
     "name": "stdout",
     "output_type": "stream",
     "text": [
      "x    1\n",
      "y    2\n",
      "z    3\n",
      "dtype: int64\n"
     ]
    }
   ],
   "source": [
    "import pandas as pd\n",
    "a = {'x':1, 'y':2, 'z':3}\n",
    "myvar = pd.Series(a)\n",
    "print(myvar)"
   ]
  },
  {
   "cell_type": "code",
   "execution_count": 20,
   "id": "09718379-5017-4cec-ab78-065b1749dea5",
   "metadata": {},
   "outputs": [
    {
     "name": "stdout",
     "output_type": "stream",
     "text": [
      "x    1\n",
      "y    2\n",
      "dtype: int64\n"
     ]
    }
   ],
   "source": [
    "import pandas as pd\n",
    "a = {'x':1, 'y':2, 'z':3}\n",
    "myvar = pd.Series(a, index = ['x','y'])\n",
    "print(myvar)"
   ]
  },
  {
   "cell_type": "code",
   "execution_count": 21,
   "id": "5ff34a36-8b6b-40b2-8371-0f538681eb20",
   "metadata": {},
   "outputs": [
    {
     "name": "stdout",
     "output_type": "stream",
     "text": [
      "    Name  ID\n",
      "0   Akhi   4\n",
      "1   Azim   5\n",
      "2  Papri   6\n"
     ]
    }
   ],
   "source": [
    "#create a DataFrame from two Series.\n",
    "import pandas as pd\n",
    "data = {\n",
    "    \"Name\" : [\"Akhi\", \"Azim\", \"Papri\"],\n",
    "    \"ID\" : [4, 5, 6]\n",
    "}\n",
    "myvar = pd.DataFrame(data)\n",
    "print(myvar)"
   ]
  },
  {
   "cell_type": "code",
   "execution_count": 16,
   "id": "99236522-07eb-48ae-902f-bdf91b8310f7",
   "metadata": {},
   "outputs": [
    {
     "name": "stdout",
     "output_type": "stream",
     "text": [
      "   Name  ID\n",
      "0  Akhi   4\n",
      "1  Azim   5\n"
     ]
    }
   ],
   "source": [
    "#return 2 rows\n",
    "print(myvar.loc[[0,1]])"
   ]
  },
  {
   "cell_type": "code",
   "execution_count": 22,
   "id": "fc7ae44e-441b-432d-a1ac-c0678a0c7b37",
   "metadata": {},
   "outputs": [
    {
     "name": "stdout",
     "output_type": "stream",
     "text": [
      "    Name  ID\n",
      "x   Akhi   4\n",
      "y   Azim   5\n",
      "z  Papri   6\n"
     ]
    }
   ],
   "source": [
    "data = {\n",
    "    \"Name\" : [\"Akhi\", \"Azim\", \"Papri\"],\n",
    "    \"ID\" : [4, 5, 6]\n",
    "}\n",
    "df = pd.DataFrame(data, index = ['x', 'y', 'z'])\n",
    "print(df)"
   ]
  },
  {
   "cell_type": "code",
   "execution_count": 23,
   "id": "57539504-cc94-4b3a-8030-39cece56ac3c",
   "metadata": {},
   "outputs": [
    {
     "name": "stdout",
     "output_type": "stream",
     "text": [
      "Name    Azim\n",
      "ID         5\n",
      "Name: y, dtype: object\n"
     ]
    }
   ],
   "source": [
    "#refer to the named index:\n",
    "print(df.loc['y'])"
   ]
  },
  {
   "cell_type": "code",
   "execution_count": null,
   "id": "84cd6f6f-ad5e-4f11-a47f-f9e05c675bc2",
   "metadata": {},
   "outputs": [],
   "source": []
  }
 ],
 "metadata": {
  "kernelspec": {
   "display_name": "Python 3 (ipykernel)",
   "language": "python",
   "name": "python3"
  },
  "language_info": {
   "codemirror_mode": {
    "name": "ipython",
    "version": 3
   },
   "file_extension": ".py",
   "mimetype": "text/x-python",
   "name": "python",
   "nbconvert_exporter": "python",
   "pygments_lexer": "ipython3",
   "version": "3.9.6"
  }
 },
 "nbformat": 4,
 "nbformat_minor": 5
}
